{
 "cells": [
  {
   "cell_type": "code",
   "execution_count": 1,
   "id": "230a84f3",
   "metadata": {},
   "outputs": [],
   "source": [
    "#Importing Libraries\n",
    "import pandas as pd\n",
    "import numpy as np\n",
    "import matplotlib.pyplot as plt\n",
    "import seaborn as sns\n",
    "%matplotlib inline"
   ]
  },
  {
   "cell_type": "code",
   "execution_count": 2,
   "id": "dec1a267",
   "metadata": {},
   "outputs": [
    {
     "data": {
      "text/html": [
       "<div>\n",
       "<style scoped>\n",
       "    .dataframe tbody tr th:only-of-type {\n",
       "        vertical-align: middle;\n",
       "    }\n",
       "\n",
       "    .dataframe tbody tr th {\n",
       "        vertical-align: top;\n",
       "    }\n",
       "\n",
       "    .dataframe thead th {\n",
       "        text-align: right;\n",
       "    }\n",
       "</style>\n",
       "<table border=\"1\" class=\"dataframe\">\n",
       "  <thead>\n",
       "    <tr style=\"text-align: right;\">\n",
       "      <th></th>\n",
       "      <th>web-scraper-order</th>\n",
       "      <th>web-scraper-start-url</th>\n",
       "      <th>userID</th>\n",
       "      <th>userID-href</th>\n",
       "      <th>name</th>\n",
       "      <th>uploads</th>\n",
       "      <th>subscribers</th>\n",
       "      <th>videoviews</th>\n",
       "      <th>country</th>\n",
       "      <th>channeltype</th>\n",
       "      <th>usercreated</th>\n",
       "      <th>grade</th>\n",
       "      <th>YouTube_Link</th>\n",
       "      <th>YouTube_Link-href</th>\n",
       "      <th>TwitterHandle</th>\n",
       "      <th>TwitterHandle-href</th>\n",
       "      <th>InstagramHandle</th>\n",
       "      <th>InstagramHandle-href</th>\n",
       "      <th>MonthlyEarnings</th>\n",
       "      <th>YearlyEarnings</th>\n",
       "    </tr>\n",
       "  </thead>\n",
       "  <tbody>\n",
       "    <tr>\n",
       "      <th>0</th>\n",
       "      <td>1553043067-5148</td>\n",
       "      <td>https://socialblade.com/youtube/top/5000/mosts...</td>\n",
       "      <td>PewDiePie</td>\n",
       "      <td>https://socialblade.com/youtube/c/pewdiepie</td>\n",
       "      <td>PewDiePie</td>\n",
       "      <td>3779</td>\n",
       "      <td>90210848</td>\n",
       "      <td>20772365682</td>\n",
       "      <td>US</td>\n",
       "      <td>Entertainment</td>\n",
       "      <td>Apr 29th, 2010</td>\n",
       "      <td>A</td>\n",
       "      <td>NaN</td>\n",
       "      <td>https://youtube.com/channel/UC-lHJZR3Gqxm24_Vd...</td>\n",
       "      <td>NaN</td>\n",
       "      <td>https://twitter.com/pewdiepie</td>\n",
       "      <td>NaN</td>\n",
       "      <td>https://instagram.com/pewdiepie</td>\n",
       "      <td>€66.9K - €1.1M</td>\n",
       "      <td>€802.3K - €12.8M</td>\n",
       "    </tr>\n",
       "    <tr>\n",
       "      <th>1</th>\n",
       "      <td>1553043063-5147</td>\n",
       "      <td>https://socialblade.com/youtube/top/5000/mosts...</td>\n",
       "      <td>T-Series</td>\n",
       "      <td>https://socialblade.com/youtube/c/tseriesmusic</td>\n",
       "      <td>T-Series</td>\n",
       "      <td>13218</td>\n",
       "      <td>90194329</td>\n",
       "      <td>65092058996</td>\n",
       "      <td>IN</td>\n",
       "      <td>Music</td>\n",
       "      <td>Mar 13th, 2006</td>\n",
       "      <td>A++</td>\n",
       "      <td>NaN</td>\n",
       "      <td>https://youtube.com/channel/UCq-Fj5jknLsUf-MWS...</td>\n",
       "      <td>NaN</td>\n",
       "      <td>https://instagram.com/tseries.official</td>\n",
       "      <td>NaN</td>\n",
       "      <td>https://plus.google.com/115156822320080163368</td>\n",
       "      <td>€635.6K - €10.2M</td>\n",
       "      <td>€7.6M - €122M</td>\n",
       "    </tr>\n",
       "    <tr>\n",
       "      <th>2</th>\n",
       "      <td>1553043059-5146</td>\n",
       "      <td>https://socialblade.com/youtube/top/5000/mosts...</td>\n",
       "      <td>Gaming</td>\n",
       "      <td>https://socialblade.com/youtube/channel/UCOpNc...</td>\n",
       "      <td>Gaming</td>\n",
       "      <td>0</td>\n",
       "      <td>81888222</td>\n",
       "      <td>0</td>\n",
       "      <td>NaN</td>\n",
       "      <td>Games</td>\n",
       "      <td>Dec 15th, 2013</td>\n",
       "      <td>D-</td>\n",
       "      <td>NaN</td>\n",
       "      <td>https://youtube.com/channel/UCOpNcN46UbXVtpKMr...</td>\n",
       "      <td>NaN</td>\n",
       "      <td>NaN</td>\n",
       "      <td>NaN</td>\n",
       "      <td>https://youtube.com/channel/UCOpNcN46UbXVtpKMr...</td>\n",
       "      <td>€0 - €0</td>\n",
       "      <td>€0 - €0</td>\n",
       "    </tr>\n",
       "    <tr>\n",
       "      <th>3</th>\n",
       "      <td>1553043055-5145</td>\n",
       "      <td>https://socialblade.com/youtube/top/5000/mosts...</td>\n",
       "      <td>YouTube Movies</td>\n",
       "      <td>https://socialblade.com/youtube/channel/UClgRk...</td>\n",
       "      <td>YouTube Movies</td>\n",
       "      <td>0</td>\n",
       "      <td>77413743</td>\n",
       "      <td>0</td>\n",
       "      <td>NaN</td>\n",
       "      <td>Film</td>\n",
       "      <td>Jun 10th, 2015</td>\n",
       "      <td>D-</td>\n",
       "      <td>NaN</td>\n",
       "      <td>https://youtube.com/channel/UClgRkhTL3_hImCAmd...</td>\n",
       "      <td>NaN</td>\n",
       "      <td>NaN</td>\n",
       "      <td>NaN</td>\n",
       "      <td>https://youtube.com/channel/UClgRkhTL3_hImCAmd...</td>\n",
       "      <td>€0 - €0</td>\n",
       "      <td>€0 - €0</td>\n",
       "    </tr>\n",
       "    <tr>\n",
       "      <th>4</th>\n",
       "      <td>1553043051-5144</td>\n",
       "      <td>https://socialblade.com/youtube/top/5000/mosts...</td>\n",
       "      <td>Sports</td>\n",
       "      <td>https://socialblade.com/youtube/channel/UCEgdi...</td>\n",
       "      <td>Sports</td>\n",
       "      <td>0</td>\n",
       "      <td>75622870</td>\n",
       "      <td>0</td>\n",
       "      <td>NaN</td>\n",
       "      <td>Sports</td>\n",
       "      <td>Dec 15th, 2013</td>\n",
       "      <td>D-</td>\n",
       "      <td>NaN</td>\n",
       "      <td>https://youtube.com/channel/UCEgdi0XIXXZ-qJOFP...</td>\n",
       "      <td>NaN</td>\n",
       "      <td>NaN</td>\n",
       "      <td>NaN</td>\n",
       "      <td>https://youtube.com/channel/UCEgdi0XIXXZ-qJOFP...</td>\n",
       "      <td>€0 - €0</td>\n",
       "      <td>€0 - €0</td>\n",
       "    </tr>\n",
       "  </tbody>\n",
       "</table>\n",
       "</div>"
      ],
      "text/plain": [
       "  web-scraper-order                              web-scraper-start-url  \\\n",
       "0   1553043067-5148  https://socialblade.com/youtube/top/5000/mosts...   \n",
       "1   1553043063-5147  https://socialblade.com/youtube/top/5000/mosts...   \n",
       "2   1553043059-5146  https://socialblade.com/youtube/top/5000/mosts...   \n",
       "3   1553043055-5145  https://socialblade.com/youtube/top/5000/mosts...   \n",
       "4   1553043051-5144  https://socialblade.com/youtube/top/5000/mosts...   \n",
       "\n",
       "           userID                                        userID-href  \\\n",
       "0       PewDiePie        https://socialblade.com/youtube/c/pewdiepie   \n",
       "1        T-Series     https://socialblade.com/youtube/c/tseriesmusic   \n",
       "2          Gaming  https://socialblade.com/youtube/channel/UCOpNc...   \n",
       "3  YouTube Movies  https://socialblade.com/youtube/channel/UClgRk...   \n",
       "4          Sports  https://socialblade.com/youtube/channel/UCEgdi...   \n",
       "\n",
       "             name  uploads  subscribers   videoviews country    channeltype  \\\n",
       "0       PewDiePie     3779     90210848  20772365682      US  Entertainment   \n",
       "1        T-Series    13218     90194329  65092058996      IN          Music   \n",
       "2          Gaming        0     81888222            0     NaN          Games   \n",
       "3  YouTube Movies        0     77413743            0     NaN           Film   \n",
       "4          Sports        0     75622870            0     NaN         Sports   \n",
       "\n",
       "      usercreated grade YouTube_Link  \\\n",
       "0  Apr 29th, 2010     A          NaN   \n",
       "1  Mar 13th, 2006   A++          NaN   \n",
       "2  Dec 15th, 2013    D-          NaN   \n",
       "3  Jun 10th, 2015    D-          NaN   \n",
       "4  Dec 15th, 2013    D-          NaN   \n",
       "\n",
       "                                   YouTube_Link-href TwitterHandle  \\\n",
       "0  https://youtube.com/channel/UC-lHJZR3Gqxm24_Vd...           NaN   \n",
       "1  https://youtube.com/channel/UCq-Fj5jknLsUf-MWS...           NaN   \n",
       "2  https://youtube.com/channel/UCOpNcN46UbXVtpKMr...           NaN   \n",
       "3  https://youtube.com/channel/UClgRkhTL3_hImCAmd...           NaN   \n",
       "4  https://youtube.com/channel/UCEgdi0XIXXZ-qJOFP...           NaN   \n",
       "\n",
       "                       TwitterHandle-href InstagramHandle  \\\n",
       "0           https://twitter.com/pewdiepie             NaN   \n",
       "1  https://instagram.com/tseries.official             NaN   \n",
       "2                                     NaN             NaN   \n",
       "3                                     NaN             NaN   \n",
       "4                                     NaN             NaN   \n",
       "\n",
       "                                InstagramHandle-href   MonthlyEarnings  \\\n",
       "0                    https://instagram.com/pewdiepie    €66.9K - €1.1M   \n",
       "1      https://plus.google.com/115156822320080163368  €635.6K - €10.2M   \n",
       "2  https://youtube.com/channel/UCOpNcN46UbXVtpKMr...           €0 - €0   \n",
       "3  https://youtube.com/channel/UClgRkhTL3_hImCAmd...           €0 - €0   \n",
       "4  https://youtube.com/channel/UCEgdi0XIXXZ-qJOFP...           €0 - €0   \n",
       "\n",
       "     YearlyEarnings  \n",
       "0  €802.3K - €12.8M  \n",
       "1     €7.6M - €122M  \n",
       "2           €0 - €0  \n",
       "3           €0 - €0  \n",
       "4           €0 - €0  "
      ]
     },
     "execution_count": 2,
     "metadata": {},
     "output_type": "execute_result"
    }
   ],
   "source": [
    "df=pd.read_csv('youtube_dataset.csv',encoding='cp1252')\n",
    "df.head()\n"
   ]
  },
  {
   "cell_type": "code",
   "execution_count": 3,
   "id": "4db557f6",
   "metadata": {},
   "outputs": [
    {
     "data": {
      "text/plain": [
       "pandas.core.frame.DataFrame"
      ]
     },
     "execution_count": 3,
     "metadata": {},
     "output_type": "execute_result"
    }
   ],
   "source": [
    "type(df)"
   ]
  },
  {
   "cell_type": "code",
   "execution_count": 4,
   "id": "24e64be0",
   "metadata": {},
   "outputs": [
    {
     "data": {
      "text/plain": [
       "(3944, 20)"
      ]
     },
     "execution_count": 4,
     "metadata": {},
     "output_type": "execute_result"
    }
   ],
   "source": [
    "df.shape"
   ]
  },
  {
   "cell_type": "code",
   "execution_count": 5,
   "id": "3e208b55",
   "metadata": {},
   "outputs": [],
   "source": [
    "#Subset_function\n",
    "def subset_data(data,first_row,last_row):\n",
    "    \n",
    "    subset=data.iloc[first_row:last_row]\n",
    "    \n",
    "    return subset.to_csv('Top_{}.csv'.format(last_row),encoding='cp1252')"
   ]
  },
  {
   "cell_type": "code",
   "execution_count": 6,
   "id": "892d5c1a",
   "metadata": {},
   "outputs": [],
   "source": [
    "#Exporting csv file for top 1000 rows\n",
    "subset_data(df,0,1000)"
   ]
  },
  {
   "cell_type": "code",
   "execution_count": 7,
   "id": "335ff46e",
   "metadata": {},
   "outputs": [],
   "source": [
    "#Function to find out distribution of channeltype\n",
    "def plot_channel_dist(first_row,last_row):\n",
    "    sns.set_style(\"whitegrid\")\n",
    "    fig=sns.displot(df['channeltype'].iloc[first_row:last_row],height=5,aspect=3)\n",
    "    \n",
    "    return fig"
   ]
  },
  {
   "cell_type": "code",
   "execution_count": 11,
   "id": "3654b367",
   "metadata": {},
   "outputs": [
    {
     "data": {
      "text/plain": [
       "<seaborn.axisgrid.FacetGrid at 0x1f62a81e220>"
      ]
     },
     "execution_count": 11,
     "metadata": {},
     "output_type": "execute_result"
    },
    {
     "data": {
      "image/png": "[encoded data removed]",
      "text/plain": [
       "<Figure size 1080x360 with 1 Axes>"
      ]
     },
     "metadata": {},
     "output_type": "display_data"
    }
   ],
   "source": [
    "#Calling the function for top 1000 rows\n",
    "plot_channel_dist(0,1000)\n"
   ]
  },
  {
   "cell_type": "code",
   "execution_count": 12,
   "id": "e1ed04ae",
   "metadata": {},
   "outputs": [
    {
     "data": {
      "text/plain": [
       "<seaborn.axisgrid.FacetGrid at 0x1f62fdf3a60>"
      ]
     },
     "execution_count": 12,
     "metadata": {},
     "output_type": "execute_result"
    },
    {
     "data": {
      "image/png": "[encoded data removed]",
      "text/plain": [
       "<Figure size 1080x360 with 1 Axes>"
      ]
     },
     "metadata": {},
     "output_type": "display_data"
    }
   ],
   "source": [
    "#Calling Function for 1500 rows\n",
    "plot_channel_dist(0,1500)"
   ]
  },
  {
   "cell_type": "code",
   "execution_count": null,
   "id": "e0ec1ec1",
   "metadata": {},
   "outputs": [],
   "source": []
  }
 ],
 "metadata": {
  "kernelspec": {
   "display_name": "Python 3 (ipykernel)",
   "language": "python",
   "name": "python3"
  },
  "language_info": {
   "codemirror_mode": {
    "name": "ipython",
    "version": 3
   },
   "file_extension": ".py",
   "mimetype": "text/x-python",
   "name": "python",
   "nbconvert_exporter": "python",
   "pygments_lexer": "ipython3",
   "version": "3.9.7"
  }
 },
 "nbformat": 4,
 "nbformat_minor": 5
}
